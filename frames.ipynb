{
 "cells": [
  {
   "cell_type": "code",
   "execution_count": 3,
   "metadata": {
    "colab": {
     "base_uri": "https://localhost:8080/"
    },
    "executionInfo": {
     "elapsed": 597,
     "status": "ok",
     "timestamp": 1691476224604,
     "user": {
      "displayName": "Deshmukh Aditya Sanjayrao",
      "userId": "06899666892501659323"
     },
     "user_tz": -330
    },
    "id": "xI-Otriy1E3_",
    "outputId": "a058b02f-0f20-45af-90e5-65fc194fbace"
   },
   "outputs": [
    {
     "name": "stdout",
     "output_type": "stream",
     "text": [
      "Requirement already satisfied: opencv-python in c:\\users\\irg\\anaconda3\\lib\\site-packages (4.8.0.74)\n",
      "Requirement already satisfied: numpy>=1.21.2 in c:\\users\\irg\\anaconda3\\lib\\site-packages (from opencv-python) (1.24.3)\n"
     ]
    }
   ],
   "source": [
    "!pip install opencv-python"
   ]
  },
  {
   "cell_type": "code",
   "execution_count": 4,
   "metadata": {
    "executionInfo": {
     "elapsed": 6,
     "status": "ok",
     "timestamp": 1691479477621,
     "user": {
      "displayName": "Deshmukh Aditya Sanjayrao",
      "userId": "06899666892501659323"
     },
     "user_tz": -330
    },
    "id": "DixwPTwR1yfr"
   },
   "outputs": [],
   "source": [
    "import cv2\n",
    "import os"
   ]
  },
  {
   "cell_type": "code",
   "execution_count": 7,
   "metadata": {
    "colab": {
     "base_uri": "https://localhost:8080/"
    },
    "executionInfo": {
     "elapsed": 46870,
     "status": "ok",
     "timestamp": 1691479529494,
     "user": {
      "displayName": "Deshmukh Aditya Sanjayrao",
      "userId": "06899666892501659323"
     },
     "user_tz": -330
    },
    "id": "DQIf6QxO14B5",
    "outputId": "cecad948-9183-4e6a-c716-b639ad7563dc"
   },
   "outputs": [
    {
     "name": "stdout",
     "output_type": "stream",
     "text": [
      "Frames extracted: 3600\n"
     ]
    }
   ],
   "source": [
    "# # Path to the input video file\n",
    "# input_video_path = r'C:\\Users\\irg\\Documents\\frames\\ITSD\\20230705_193539_47348F.mp4'\n",
    "\n",
    "# # Directory to save the extracted frames\n",
    "# output_directory = r'C:\\Users\\irg\\Documents\\frames\\ITSD\\output'  # Change this to your desired directory\n",
    "# os.makedirs(output_directory, exist_ok=True)\n",
    "\n",
    "# # Open the video file\n",
    "# cap = cv2.VideoCapture(input_video_path)\n",
    "\n",
    "# # Get the frames per second (fps) of the video\n",
    "# fps = int(cap.get(cv2.CAP_PROP_FPS))\n",
    "\n",
    "# # Calculate the frame interval based on the desired fps (10 fps)\n",
    "# frame_interval = int(fps / 10)\n",
    "\n",
    "# frame_count = 0\n",
    "\n",
    "# while True:\n",
    "#     ret, frame = cap.read()\n",
    "    \n",
    "#     if not ret:\n",
    "#         break\n",
    "    \n",
    "#     # Extract frames at the desired interval\n",
    "#     if frame_count % frame_interval == 0:\n",
    "#         frame_filename = os.path.join(output_directory, f\"frame_{frame_count:04d}.jpg\")\n",
    "#         cv2.imwrite(frame_filename, frame)\n",
    "    \n",
    "#     frame_count += 1\n",
    "\n",
    "# # Release the video capture object\n",
    "# cap.release()\n",
    "\n",
    "# print(f\"Frames extracted: {frame_count}\")"
   ]
  },
  {
   "cell_type": "code",
   "execution_count": 14,
   "metadata": {
    "colab": {
     "base_uri": "https://localhost:8080/"
    },
    "executionInfo": {
     "elapsed": 111128,
     "status": "ok",
     "timestamp": 1691479846124,
     "user": {
      "displayName": "Deshmukh Aditya Sanjayrao",
      "userId": "06899666892501659323"
     },
     "user_tz": -330
    },
    "id": "d1sAJS5_2Eyl",
    "outputId": "3de54214-4a14-4660-ece4-b8a533337c76"
   },
   "outputs": [
    {
     "name": "stdout",
     "output_type": "stream",
     "text": [
      "Processing video: C:\\Users\\irg\\Documents\\frames\\ITSD\\20230705_193539_47348F.MP4\n",
      "Processing video: C:\\Users\\irg\\Documents\\frames\\ITSD\\20230705_193539_47349R.MP4\n",
      "Processing video: C:\\Users\\irg\\Documents\\frames\\ITSD\\20230705_193639_47350F.MP4\n",
      "Processing video: C:\\Users\\irg\\Documents\\frames\\ITSD\\20230705_193639_47351R.MP4\n",
      "Processing video: C:\\Users\\irg\\Documents\\frames\\ITSD\\20230705_193739_47352F.MP4\n",
      "Frames extracted from 5 videos\n"
     ]
    }
   ],
   "source": [
    "# Source directory containing input videos\n",
    "input_video_directory = r'C:\\Users\\irg\\Documents\\frames\\ITSD'  # Change this to your source directory\n",
    "\n",
    "# Destination directory to save all extracted frames\n",
    "output_directory = r'C:\\Users\\irg\\Documents\\frames\\ITSD\\output'  # Change this to your desired output directory\n",
    "os.makedirs(output_directory, exist_ok=True)\n",
    "\n",
    "# List all files in the input video directory\n",
    "video_files = [file for file in os.listdir(input_video_directory) if file.endswith('.MP4')]\n",
    "\n",
    "for video_file in video_files:\n",
    "    # Path to the input video file\n",
    "    input_video_path = os.path.join(input_video_directory, video_file)\n",
    "    print(f\"Processing video: {input_video_path}\")\n",
    "    \n",
    "    # Open the video file\n",
    "    cap = cv2.VideoCapture(input_video_path)\n",
    "    \n",
    "    # Get the frames per second (fps) of the video\n",
    "    fps = int(cap.get(cv2.CAP_PROP_FPS))\n",
    "    \n",
    "    # Calculate the frame interval based on the desired fps (10 fps)\n",
    "    frame_interval = int(fps / 10)\n",
    "    \n",
    "    frame_count = 0\n",
    "    \n",
    "    while True:\n",
    "        ret, frame = cap.read()\n",
    "        \n",
    "        if not ret:\n",
    "            break\n",
    "        \n",
    "        # Extract frames at the desired interval\n",
    "        if frame_count % frame_interval == 0:\n",
    "            frame_filename = os.path.join(output_directory, f\"{video_file[:-4]}_frame_{frame_count:04d}.jpg\")\n",
    "            cv2.imwrite(frame_filename, frame)\n",
    "        \n",
    "        frame_count += 1\n",
    "    \n",
    "    # Release the video capture object\n",
    "    cap.release()\n",
    "\n",
    "print(f\"Frames extracted from {len(video_files)} videos\")\n"
   ]
  }
 ],
 "metadata": {
  "accelerator": "GPU",
  "colab": {
   "authorship_tag": "ABX9TyPb1iZf5N8RMlb2VitIwTOi",
   "gpuType": "T4",
   "provenance": []
  },
  "kernelspec": {
   "display_name": "Python 3 (ipykernel)",
   "language": "python",
   "name": "python3"
  },
  "language_info": {
   "codemirror_mode": {
    "name": "ipython",
    "version": 3
   },
   "file_extension": ".py",
   "mimetype": "text/x-python",
   "name": "python",
   "nbconvert_exporter": "python",
   "pygments_lexer": "ipython3",
   "version": "3.11.3"
  }
 },
 "nbformat": 4,
 "nbformat_minor": 1
}
